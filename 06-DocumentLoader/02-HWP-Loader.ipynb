{
 "cells": [
  {
   "cell_type": "markdown",
   "metadata": {},
   "source": [
    "# HWP (한글)\n",
    "\n",
    "한글(HWP)은 한글과컴퓨터에서 개발한 워드프로세서로, 한국의 대표적인 문서 작성 프로그램입니다.\n",
    "\n",
    "파일 확장자로 .hwp를 사용하며, 기업, 학교, 정부 기관 등에서 널리 활용되고 있습니다. 그렇기 때문에 대한민국 개발자라면 `.hwp` 문서를 처리해야 하는 경험을 해보았을 것입니다. (혹은 해볼 예정이다)\n",
    "\n",
    "아쉽게도 LangChain 에는 아직 integration 이 되지 않아 직접 구현한 `HWPLoader` 를 사용해야 합니다. \n"
   ]
  },
  {
   "cell_type": "code",
   "execution_count": null,
   "metadata": {},
   "outputs": [],
   "source": [
    "# 설치\n",
    "# !pip install -qU langchain-teddynote"
   ]
  },
  {
   "cell_type": "code",
   "execution_count": 1,
   "metadata": {},
   "outputs": [
    {
     "ename": "FileNotFoundError",
     "evalue": "[Errno 2] No such file or directory: './data/디지털 정부혁신 추진계획.hwp'",
     "output_type": "error",
     "traceback": [
      "\u001b[31m---------------------------------------------------------------------------\u001b[39m",
      "\u001b[31mFileNotFoundError\u001b[39m                         Traceback (most recent call last)",
      "\u001b[36mCell\u001b[39m\u001b[36m \u001b[39m\u001b[32mIn[1]\u001b[39m\u001b[32m, line 7\u001b[39m\n\u001b[32m      4\u001b[39m loader = HWPLoader(\u001b[33m\"\u001b[39m\u001b[33m./data/디지털 정부혁신 추진계획.hwp\u001b[39m\u001b[33m\"\u001b[39m)\n\u001b[32m      6\u001b[39m \u001b[38;5;66;03m# 문서 로드\u001b[39;00m\n\u001b[32m----> \u001b[39m\u001b[32m7\u001b[39m docs = \u001b[43mloader\u001b[49m\u001b[43m.\u001b[49m\u001b[43mload\u001b[49m\u001b[43m(\u001b[49m\u001b[43m)\u001b[49m\n",
      "\u001b[36mFile \u001b[39m\u001b[32mc:\\Users\\younghl\\CursorProjects\\langchain-kr\\.venv\\Lib\\site-packages\\langchain_core\\document_loaders\\base.py:32\u001b[39m, in \u001b[36mBaseLoader.load\u001b[39m\u001b[34m(self)\u001b[39m\n\u001b[32m     30\u001b[39m \u001b[38;5;28;01mdef\u001b[39;00m\u001b[38;5;250m \u001b[39m\u001b[34mload\u001b[39m(\u001b[38;5;28mself\u001b[39m) -> \u001b[38;5;28mlist\u001b[39m[Document]:\n\u001b[32m     31\u001b[39m \u001b[38;5;250m    \u001b[39m\u001b[33;03m\"\"\"Load data into Document objects.\"\"\"\u001b[39;00m\n\u001b[32m---> \u001b[39m\u001b[32m32\u001b[39m     \u001b[38;5;28;01mreturn\u001b[39;00m \u001b[38;5;28;43mlist\u001b[39;49m\u001b[43m(\u001b[49m\u001b[38;5;28;43mself\u001b[39;49m\u001b[43m.\u001b[49m\u001b[43mlazy_load\u001b[49m\u001b[43m(\u001b[49m\u001b[43m)\u001b[49m\u001b[43m)\u001b[49m\n",
      "\u001b[36mFile \u001b[39m\u001b[32mc:\\Users\\younghl\\CursorProjects\\langchain-kr\\.venv\\Lib\\site-packages\\langchain_teddynote\\document_loaders\\hwp.py:34\u001b[39m, in \u001b[36mHWPLoader.lazy_load\u001b[39m\u001b[34m(self)\u001b[39m\n\u001b[32m     28\u001b[39m \u001b[38;5;28;01mdef\u001b[39;00m\u001b[38;5;250m \u001b[39m\u001b[34mlazy_load\u001b[39m(\u001b[38;5;28mself\u001b[39m) -> Iterator[Document]:\n\u001b[32m     29\u001b[39m \u001b[38;5;250m    \u001b[39m\u001b[33;03m\"\"\"HWP 파일에서 데이터를 로드하고 표를 추출합니다.\u001b[39;00m\n\u001b[32m     30\u001b[39m \n\u001b[32m     31\u001b[39m \u001b[33;03m    Yields:\u001b[39;00m\n\u001b[32m     32\u001b[39m \u001b[33;03m        Document: 추출된 문서\u001b[39;00m\n\u001b[32m     33\u001b[39m \u001b[33;03m    \"\"\"\u001b[39;00m\n\u001b[32m---> \u001b[39m\u001b[32m34\u001b[39m     load_file = \u001b[43molefile\u001b[49m\u001b[43m.\u001b[49m\u001b[43mOleFileIO\u001b[49m\u001b[43m(\u001b[49m\u001b[38;5;28;43mself\u001b[39;49m\u001b[43m.\u001b[49m\u001b[43mfile_path\u001b[49m\u001b[43m)\u001b[49m\n\u001b[32m     35\u001b[39m     file_dir = load_file.listdir()\n\u001b[32m     37\u001b[39m     \u001b[38;5;28;01mif\u001b[39;00m \u001b[38;5;129;01mnot\u001b[39;00m \u001b[38;5;28mself\u001b[39m._is_valid_hwp(file_dir):\n",
      "\u001b[36mFile \u001b[39m\u001b[32mc:\\Users\\younghl\\CursorProjects\\langchain-kr\\.venv\\Lib\\site-packages\\olefile\\olefile.py:1127\u001b[39m, in \u001b[36mOleFileIO.__init__\u001b[39m\u001b[34m(self, filename, raise_defects, write_mode, debug, path_encoding)\u001b[39m\n\u001b[32m   1124\u001b[39m \u001b[38;5;28;01mif\u001b[39;00m filename:\n\u001b[32m   1125\u001b[39m     \u001b[38;5;66;03m# try opening, ensure fp is closed if that fails\u001b[39;00m\n\u001b[32m   1126\u001b[39m     \u001b[38;5;28;01mtry\u001b[39;00m:\n\u001b[32m-> \u001b[39m\u001b[32m1127\u001b[39m         \u001b[38;5;28;43mself\u001b[39;49m\u001b[43m.\u001b[49m\u001b[43mopen\u001b[49m\u001b[43m(\u001b[49m\u001b[43mfilename\u001b[49m\u001b[43m,\u001b[49m\u001b[43m \u001b[49m\u001b[43mwrite_mode\u001b[49m\u001b[43m=\u001b[49m\u001b[43mwrite_mode\u001b[49m\u001b[43m)\u001b[49m\n\u001b[32m   1128\u001b[39m     \u001b[38;5;28;01mexcept\u001b[39;00m \u001b[38;5;167;01mException\u001b[39;00m:\n\u001b[32m   1129\u001b[39m         \u001b[38;5;66;03m# caller has no chance of calling close() now\u001b[39;00m\n\u001b[32m   1130\u001b[39m         \u001b[38;5;28mself\u001b[39m._close(warn=\u001b[38;5;28;01mFalse\u001b[39;00m)\n",
      "\u001b[36mFile \u001b[39m\u001b[32mc:\\Users\\younghl\\CursorProjects\\langchain-kr\\.venv\\Lib\\site-packages\\olefile\\olefile.py:1231\u001b[39m, in \u001b[36mOleFileIO.open\u001b[39m\u001b[34m(self, filename, write_mode)\u001b[39m\n\u001b[32m   1228\u001b[39m \u001b[38;5;28;01melse\u001b[39;00m:\n\u001b[32m   1229\u001b[39m     \u001b[38;5;66;03m# read-only mode by default\u001b[39;00m\n\u001b[32m   1230\u001b[39m     mode = \u001b[33m'\u001b[39m\u001b[33mrb\u001b[39m\u001b[33m'\u001b[39m\n\u001b[32m-> \u001b[39m\u001b[32m1231\u001b[39m \u001b[38;5;28mself\u001b[39m.fp = \u001b[38;5;28;43mopen\u001b[39;49m\u001b[43m(\u001b[49m\u001b[43mfilename\u001b[49m\u001b[43m,\u001b[49m\u001b[43m \u001b[49m\u001b[43mmode\u001b[49m\u001b[43m)\u001b[49m\n\u001b[32m   1232\u001b[39m \u001b[38;5;28mself\u001b[39m._we_opened_fp = \u001b[38;5;28;01mTrue\u001b[39;00m\n\u001b[32m   1233\u001b[39m \u001b[38;5;28mself\u001b[39m._open_stack = traceback.extract_stack()   \u001b[38;5;66;03m# remember for warning\u001b[39;00m\n",
      "\u001b[31mFileNotFoundError\u001b[39m: [Errno 2] No such file or directory: './data/디지털 정부혁신 추진계획.hwp'"
     ]
    }
   ],
   "source": [
    "from langchain_teddynote.document_loaders import HWPLoader\n",
    "\n",
    "# HWP Loader 객체 생성\n",
    "loader = HWPLoader(\"./data/디지털 정부혁신 추진계획.hwp\")\n",
    "\n",
    "# 문서 로드\n",
    "docs = loader.load()"
   ]
  },
  {
   "cell_type": "code",
   "execution_count": null,
   "metadata": {},
   "outputs": [],
   "source": [
    "# 결과 출력\n",
    "print(docs[0].page_content[:1000])"
   ]
  },
  {
   "cell_type": "code",
   "execution_count": null,
   "metadata": {},
   "outputs": [],
   "source": [
    "len(docs)"
   ]
  },
  {
   "cell_type": "code",
   "execution_count": null,
   "metadata": {},
   "outputs": [],
   "source": [
    "print(docs[0].page_content)"
   ]
  },
  {
   "cell_type": "markdown",
   "metadata": {},
   "source": [
    "metadata 에는 파일명 정보가 담겨 있습니다."
   ]
  },
  {
   "cell_type": "code",
   "execution_count": null,
   "metadata": {},
   "outputs": [],
   "source": [
    "# 결과 출력\n",
    "print(docs[0].metadata)"
   ]
  }
 ],
 "metadata": {
  "kernelspec": {
   "display_name": ".venv",
   "language": "python",
   "name": "python3"
  },
  "language_info": {
   "codemirror_mode": {
    "name": "ipython",
    "version": 3
   },
   "file_extension": ".py",
   "mimetype": "text/x-python",
   "name": "python",
   "nbconvert_exporter": "python",
   "pygments_lexer": "ipython3",
   "version": "3.11.13"
  }
 },
 "nbformat": 4,
 "nbformat_minor": 2
}
