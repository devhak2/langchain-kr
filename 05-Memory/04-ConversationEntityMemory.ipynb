{
 "cells": [
  {
   "cell_type": "markdown",
   "metadata": {},
   "source": [
    "# ConversationEntityMemory\n",
    "\n",
    "엔티티 메모리는 대화에서 특정 엔티티에 대한 주어진 사실을 기억합니다.\n",
    "\n",
    "엔티티 메모리는 엔티티에 대한 정보를 추출하고(LLM 사용) 시간이 지남에 따라 해당 엔티티에 대한 지식을 축적합니다(역시 LLM 사용).\n"
   ]
  },
  {
   "cell_type": "code",
   "execution_count": 1,
   "metadata": {},
   "outputs": [
    {
     "data": {
      "text/plain": [
       "True"
      ]
     },
     "execution_count": 1,
     "metadata": {},
     "output_type": "execute_result"
    }
   ],
   "source": [
    "# API KEY를 환경변수로 관리하기 위한 설정 파일\n",
    "from dotenv import load_dotenv\n",
    "\n",
    "# API KEY 정보로드\n",
    "load_dotenv()"
   ]
  },
  {
   "cell_type": "code",
   "execution_count": 2,
   "metadata": {},
   "outputs": [],
   "source": [
    "# Bedrock 설정 및 Util 함수 설정\n",
    "from langchain_aws import ChatBedrockConverse\n",
    "import os\n",
    "from Util.stream_utils import print_stream_content, get_stream_content\n",
    "\n",
    "# 객체 생성\n",
    "llm = ChatBedrockConverse(\n",
    "    aws_access_key_id=os.getenv(\"AWS_ACCESS_KEY_ID\"),\n",
    "    aws_secret_access_key=os.getenv(\"AWS_SECRET_ACCESS_KEY\"),\n",
    "    model=\"apac.anthropic.claude-sonnet-4-20250514-v1:0\",\n",
    "    region_name=\"ap-northeast-2\",\n",
    ")"
   ]
  },
  {
   "cell_type": "code",
   "execution_count": 3,
   "metadata": {},
   "outputs": [],
   "source": [
    "from langchain.chains import ConversationChain\n",
    "from langchain.memory import ConversationEntityMemory\n",
    "from langchain.memory.prompt import ENTITY_MEMORY_CONVERSATION_TEMPLATE"
   ]
  },
  {
   "cell_type": "markdown",
   "metadata": {},
   "source": [
    "Entity 메모리를 효과적으로 사용하기 위하여, 제공되는 프롬프트를 사용합니다.\n"
   ]
  },
  {
   "cell_type": "code",
   "execution_count": null,
   "metadata": {},
   "outputs": [],
   "source": [
    "# Entity Memory를 사용하는 프롬프트 내용을 출력합니다.\n",
    "print(ENTITY_MEMORY_CONVERSATION_TEMPLATE.template)"
   ]
  },
  {
   "cell_type": "code",
   "execution_count": 12,
   "metadata": {},
   "outputs": [],
   "source": [
    "memory = ConversationEntityMemory(llm=llm)\n",
    "memory.save_context(\n",
    "    {\"input\": \"테디와 셜리는 한 회사에서 일하는 동료입니다. 테디는 개발자이고 셜리는 디자이너입니다. 그들은 최근 회사에서 일하는 것을 그만두고 자신들의 회사를 차릴 계획을 세우고 있습니다.\"},\n",
    "    {\"output\": \"\"\"테디와 셜리의 창업 계획이 흥미롭네요! 개발자와 디자이너의 조합은 스타트업에서 매우 강력한 파트너십이 될 수 있습니다.\n",
    "\n",
    "이들이 성공적인 창업을 위해 고려해볼 만한 몇 가지 사항들이 있을 것 같은데요:\n",
    "\n",
    "**강점 활용:**\n",
    "- 테디의 기술적 역량과 셜리의 디자인 감각을 결합한 제품/서비스 개발\n",
    "- 서로 다른 전문 분야로 인한 상호 보완적 관계\n",
    "\n",
    "**준비 사항:**\n",
    "- 사업 아이템 구체화 및 시장 조사\n",
    "- 초기 자금 확보 방안\n",
    "- 역할 분담 및 지분 구조 설정\n",
    "- 법적 절차 (사업자 등록, 회사 설립 등)\n",
    "\n",
    "테디와 셜리가 어떤 분야의 사업을 계획하고 있는지, 또는 창업 과정에서 어떤 부분에 대해 더 자세히 알고 싶으신가요?\"\"\"},\n",
    ")"
   ]
  },
  {
   "cell_type": "code",
   "execution_count": 10,
   "metadata": {},
   "outputs": [
    {
     "data": {
      "text/plain": [
       "{'history': 'Human: 테디와 셜리는 한 회사에서 일하는 동료입니다. 테디는 개발자이고 셜리는 디자이너입니다. 그들은 최근 회사에서 일하는 것을 그만두고 자신들의 회사를 차릴 계획을 세우고 있습니다.\\nAI: 테디와 셜리의 창업 계획이 흥미롭네요! 개발자와 디자이너의 조합은 스타트업에서 매우 강력한 파트너십이 될 수 있습니다.\\n\\n이들이 성공적인 창업을 위해 고려해볼 만한 몇 가지 사항들이 있을 것 같은데요:\\n\\n**강점 활용:**\\n- 테디의 기술적 역량과 셜리의 디자인 감각을 결합한 제품/서비스 개발\\n- 서로 다른 전문 분야로 인한 상호 보완적 관계\\n\\n**준비 사항:**\\n- 사업 아이템 구체화 및 시장 조사\\n- 초기 자금 확보 방안\\n- 역할 분담 및 지분 구조 설정\\n- 법적 절차 (사업자 등록, 회사 설립 등)\\n\\n테디와 셜리가 어떤 분야의 사업을 계획하고 있는지, 또는 창업 과정에서 어떤 부분에 대해 더 자세히 알고 싶으신가요?',\n",
       " 'entities': {'테디': ''}}"
      ]
     },
     "execution_count": 10,
     "metadata": {},
     "output_type": "execute_result"
    }
   ],
   "source": [
    "memory.load_memory_variables({\"input\": \"테디는 무얼하려고 합니까?\"})"
   ]
  },
  {
   "cell_type": "code",
   "execution_count": 5,
   "metadata": {},
   "outputs": [
    {
     "name": "stderr",
     "output_type": "stream",
     "text": [
      "C:\\Users\\younghl\\AppData\\Local\\Temp\\ipykernel_37872\\2679377046.py:5: LangChainDeprecationWarning: Please see the migration guide at: https://python.langchain.com/docs/versions/migrating_memory/\n",
      "  memory=ConversationEntityMemory(llm=llm),\n",
      "c:\\Users\\younghl\\CursorProjects\\langchain-kr\\.venv\\Lib\\site-packages\\pydantic\\main.py:253: LangChainDeprecationWarning: Please see the migration guide at: https://python.langchain.com/docs/versions/migrating_memory/\n",
      "  validated_self = self.__pydantic_validator__.validate_python(data, self_instance=self)\n",
      "C:\\Users\\younghl\\AppData\\Local\\Temp\\ipykernel_37872\\2679377046.py:2: LangChainDeprecationWarning: The class `ConversationChain` was deprecated in LangChain 0.2.7 and will be removed in 1.0. Use :class:`~langchain_core.runnables.history.RunnableWithMessageHistory` instead.\n",
      "  conversation = ConversationChain(\n"
     ]
    }
   ],
   "source": [
    "# ConversationChain 을 생성합니다.\n",
    "conversation = ConversationChain(\n",
    "    llm=llm,\n",
    "    prompt=ENTITY_MEMORY_CONVERSATION_TEMPLATE,\n",
    "    memory=ConversationEntityMemory(llm=llm),\n",
    ")"
   ]
  },
  {
   "cell_type": "markdown",
   "metadata": {},
   "source": [
    "대화를 시작합니다.\n",
    "\n",
    "입력한 대화를 바탕으로 `ConversationEntityMemory` 는 주요 Entity 정보를 별도로 저장합니다.\n"
   ]
  },
  {
   "cell_type": "code",
   "execution_count": 6,
   "metadata": {},
   "outputs": [
    {
     "data": {
      "text/plain": [
       "'테디와 셜리의 창업 계획이 흥미롭네요! 개발자와 디자이너의 조합은 스타트업에서 매우 강력한 파트너십이 될 수 있습니다.\\n\\n이들이 성공적인 창업을 위해 고려해볼 만한 몇 가지 사항들이 있을 것 같은데요:\\n\\n**강점 활용:**\\n- 테디의 기술적 역량과 셜리의 디자인 감각을 결합한 제품/서비스 개발\\n- 서로 다른 전문 분야로 인한 상호 보완적 관계\\n\\n**준비 사항:**\\n- 사업 아이템 구체화 및 시장 조사\\n- 초기 자금 확보 방안\\n- 역할 분담 및 지분 구조 설정\\n- 법적 절차 (사업자 등록, 회사 설립 등)\\n\\n테디와 셜리가 어떤 분야의 사업을 계획하고 있는지, 또는 창업 과정에서 어떤 부분에 대해 더 자세히 알고 싶으신가요?'"
      ]
     },
     "execution_count": 6,
     "metadata": {},
     "output_type": "execute_result"
    }
   ],
   "source": [
    "conversation.predict(\n",
    "    input=\"테디와 셜리는 한 회사에서 일하는 동료입니다.\"\n",
    "    \"테디는 개발자이고 셜리는 디자이너입니다. \"\n",
    "    \"그들은 최근 회사에서 일하는 것을 그만두고 자신들의 회사를 차릴 계획을 세우고 있습니다.\"\n",
    ")"
   ]
  },
  {
   "cell_type": "markdown",
   "metadata": {},
   "source": [
    "Entity는 `memory.entity_store.store` 에서 확인할 수 있습니다.\n"
   ]
  },
  {
   "cell_type": "code",
   "execution_count": 7,
   "metadata": {},
   "outputs": [
    {
     "data": {
      "text/plain": [
       "{'테디': '테디는 개발자로 일하고 있으며, 디자이너인 셜리와 함께 회사를 그만두고 창업할 계획을 세우고 있습니다.',\n",
       " '셜리': '셜리는 디자이너로 일하고 있으며, 동료인 테디와 함께 회사를 그만두고 창업을 계획하고 있습니다.'}"
      ]
     },
     "execution_count": 7,
     "metadata": {},
     "output_type": "execute_result"
    }
   ],
   "source": [
    "# entity memory 를 출력합니다.\n",
    "conversation.memory.entity_store.store"
   ]
  }
 ],
 "metadata": {
  "kernelspec": {
   "display_name": ".venv",
   "language": "python",
   "name": "python3"
  },
  "language_info": {
   "codemirror_mode": {
    "name": "ipython",
    "version": 3
   },
   "file_extension": ".py",
   "mimetype": "text/x-python",
   "name": "python",
   "nbconvert_exporter": "python",
   "pygments_lexer": "ipython3",
   "version": "3.11.13"
  }
 },
 "nbformat": 4,
 "nbformat_minor": 2
}
