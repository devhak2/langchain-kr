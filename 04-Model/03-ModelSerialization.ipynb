{
 "cells": [
  {
   "cell_type": "markdown",
   "metadata": {},
   "source": [
    "## 직렬화(Serialization)\n",
    "\n",
    "`is_lc_serializable` 클래스 메서드로 실행하여 LangChain 클래스가 직렬화 가능한지 확인할 수 있습니다."
   ]
  },
  {
   "cell_type": "code",
   "execution_count": 1,
   "metadata": {},
   "outputs": [
    {
     "data": {
      "text/plain": [
       "True"
      ]
     },
     "execution_count": 1,
     "metadata": {},
     "output_type": "execute_result"
    }
   ],
   "source": [
    "# API KEY를 환경변수로 관리하기 위한 설정 파일\n",
    "from dotenv import load_dotenv\n",
    "\n",
    "# API KEY 정보로드\n",
    "load_dotenv()"
   ]
  },
  {
   "cell_type": "code",
   "execution_count": 2,
   "metadata": {},
   "outputs": [
    {
     "name": "stdout",
     "output_type": "stream",
     "text": [
      "LangSmith 추적을 시작합니다.\n",
      "[프로젝트명]\n",
      "CH04-Models\n"
     ]
    }
   ],
   "source": [
    "# LangSmith 추적을 설정합니다. https://smith.langchain.com\n",
    "# !pip install langchain-teddynote\n",
    "from langchain_teddynote import logging\n",
    "\n",
    "# 프로젝트 이름을 입력합니다.\n",
    "logging.langsmith(\"CH04-Models\")"
   ]
  },
  {
   "cell_type": "code",
   "execution_count": 4,
   "metadata": {},
   "outputs": [],
   "source": [
    "# Bedrock 설정 및 Util 함수 설정\n",
    "from langchain_aws import ChatBedrockConverse\n",
    "import os\n",
    "from Util.stream_utils import print_stream_content, get_stream_content\n",
    "\n",
    "# 객체 생성\n",
    "llm = ChatBedrockConverse(\n",
    "    aws_access_key_id=os.getenv(\"AWS_ACCESS_KEY_ID\"),\n",
    "    aws_secret_access_key=os.getenv(\"AWS_SECRET_ACCESS_KEY\"),\n",
    "    model=\"apac.anthropic.claude-sonnet-4-20250514-v1:0\",\n",
    "    region_name=\"ap-northeast-2\",\n",
    ")"
   ]
  },
  {
   "cell_type": "code",
   "execution_count": 5,
   "metadata": {},
   "outputs": [],
   "source": [
    "import os\n",
    "from langchain.prompts import PromptTemplate\n",
    "\n",
    "# 프롬프트 템플릿을 사용하여 질문을 생성합니다.\n",
    "prompt = PromptTemplate.from_template(\"{fruit}의 색상이 무엇입니까?\")"
   ]
  },
  {
   "cell_type": "markdown",
   "metadata": {},
   "source": [
    "클래스(class) 에 대하여 직렬화 가능 여부를 확인합니다."
   ]
  },
  {
   "cell_type": "code",
   "execution_count": 6,
   "metadata": {},
   "outputs": [
    {
     "name": "stdout",
     "output_type": "stream",
     "text": [
      "ChatBedrockConverse: True\n"
     ]
    }
   ],
   "source": [
    "# 직렬화가 가능한지 체크합니다.\n",
    "print(f\"ChatBedrockConverse: {ChatBedrockConverse.is_lc_serializable()}\")"
   ]
  },
  {
   "cell_type": "markdown",
   "metadata": {},
   "source": [
    "llm 객체에 대하여 직렬화 가능 여부를 확인합니다."
   ]
  },
  {
   "cell_type": "code",
   "execution_count": 7,
   "metadata": {},
   "outputs": [
    {
     "name": "stdout",
     "output_type": "stream",
     "text": [
      "ChatBedrockConverse: True\n"
     ]
    }
   ],
   "source": [
    "# 직렬화가 가능한지 체크합니다.\n",
    "print(f\"ChatBedrockConverse: {llm.is_lc_serializable()}\")"
   ]
  },
  {
   "cell_type": "code",
   "execution_count": 8,
   "metadata": {},
   "outputs": [
    {
     "data": {
      "text/plain": [
       "True"
      ]
     },
     "execution_count": 8,
     "metadata": {},
     "output_type": "execute_result"
    }
   ],
   "source": [
    "# 체인을 생성합니다.\n",
    "chain = prompt | llm\n",
    "\n",
    "# 직렬화가 가능한지 체크합니다.\n",
    "chain.is_lc_serializable()"
   ]
  },
  {
   "cell_type": "markdown",
   "metadata": {},
   "source": [
    "## 체인(Chain) 직렬화(dumps, dumpd)\n",
    "\n",
    "### 개요\n",
    "\n",
    "체인 직렬화는 직렬화 가능한 모든 객체를 딕셔너리 또는 JSON 문자열로 변환하는 과정을 의미합니다.\n",
    "\n",
    "### 직렬화 방법\n",
    "\n",
    "객체의 속성 및 데이터를 키-값 쌍으로 저장하여 딕셔너리 형태로 변환합니다.\n",
    "\n",
    "이러한 직렬화 방식은 객체를 쉽게 저장하고 전송할 수 있게 하며, 다양한 환경에서 객체를 재구성할 수 있도록 합니다.\n",
    "\n",
    "**참고**\n",
    "- `dumps`: 객체를 JSON 문자열로 직렬화\n",
    "- `dumpd`: 객체를 딕셔너리로 직렬화\n"
   ]
  },
  {
   "cell_type": "code",
   "execution_count": 9,
   "metadata": {},
   "outputs": [
    {
     "data": {
      "text/plain": [
       "{'lc': 1,\n",
       " 'type': 'constructor',\n",
       " 'id': ['langchain', 'schema', 'runnable', 'RunnableSequence'],\n",
       " 'kwargs': {'first': {'lc': 1,\n",
       "   'type': 'constructor',\n",
       "   'id': ['langchain', 'prompts', 'prompt', 'PromptTemplate'],\n",
       "   'kwargs': {'input_variables': ['fruit'],\n",
       "    'template': '{fruit}의 색상이 무엇입니까?',\n",
       "    'template_format': 'f-string'},\n",
       "   'name': 'PromptTemplate'},\n",
       "  'last': {'lc': 1,\n",
       "   'type': 'constructor',\n",
       "   'id': ['langchain_aws', 'chat_models', 'ChatBedrockConverse'],\n",
       "   'kwargs': {'model_id': 'apac.anthropic.claude-sonnet-4-20250514-v1:0',\n",
       "    'region_name': 'ap-northeast-2',\n",
       "    'aws_access_key_id': {'lc': 1,\n",
       "     'type': 'secret',\n",
       "     'id': ['AWS_ACCESS_KEY_ID']},\n",
       "    'aws_secret_access_key': {'lc': 1,\n",
       "     'type': 'secret',\n",
       "     'id': ['AWS_SECRET_ACCESS_KEY']},\n",
       "    'provider': 'anthropic',\n",
       "    'supports_tool_choice_values': ['auto', 'any', 'tool']},\n",
       "   'name': 'ChatBedrockConverse'}},\n",
       " 'name': 'RunnableSequence'}"
      ]
     },
     "execution_count": 9,
     "metadata": {},
     "output_type": "execute_result"
    }
   ],
   "source": [
    "from langchain_core.load import dumpd, dumps\n",
    "\n",
    "dumpd_chain = dumpd(chain)\n",
    "dumpd_chain"
   ]
  },
  {
   "cell_type": "code",
   "execution_count": 10,
   "metadata": {},
   "outputs": [
    {
     "data": {
      "text/plain": [
       "dict"
      ]
     },
     "execution_count": 10,
     "metadata": {},
     "output_type": "execute_result"
    }
   ],
   "source": [
    "# 직렬화된 체인의 타입을 확인합니다.\n",
    "type(dumpd_chain)"
   ]
  },
  {
   "cell_type": "markdown",
   "metadata": {},
   "source": [
    "이번에는 `dumps` 함수를 사용하여 직렬화된 체인을 확인해보겠습니다."
   ]
  },
  {
   "cell_type": "code",
   "execution_count": 11,
   "metadata": {},
   "outputs": [
    {
     "data": {
      "text/plain": [
       "'{\"lc\": 1, \"type\": \"constructor\", \"id\": [\"langchain\", \"schema\", \"runnable\", \"RunnableSequence\"], \"kwargs\": {\"first\": {\"lc\": 1, \"type\": \"constructor\", \"id\": [\"langchain\", \"prompts\", \"prompt\", \"PromptTemplate\"], \"kwargs\": {\"input_variables\": [\"fruit\"], \"template\": \"{fruit}\\\\uc758 \\\\uc0c9\\\\uc0c1\\\\uc774 \\\\ubb34\\\\uc5c7\\\\uc785\\\\ub2c8\\\\uae4c?\", \"template_format\": \"f-string\"}, \"name\": \"PromptTemplate\"}, \"last\": {\"lc\": 1, \"type\": \"constructor\", \"id\": [\"langchain_aws\", \"chat_models\", \"ChatBedrockConverse\"], \"kwargs\": {\"model_id\": \"apac.anthropic.claude-sonnet-4-20250514-v1:0\", \"region_name\": \"ap-northeast-2\", \"aws_access_key_id\": {\"lc\": 1, \"type\": \"secret\", \"id\": [\"AWS_ACCESS_KEY_ID\"]}, \"aws_secret_access_key\": {\"lc\": 1, \"type\": \"secret\", \"id\": [\"AWS_SECRET_ACCESS_KEY\"]}, \"provider\": \"anthropic\", \"supports_tool_choice_values\": [\"auto\", \"any\", \"tool\"]}, \"name\": \"ChatBedrockConverse\"}}, \"name\": \"RunnableSequence\"}'"
      ]
     },
     "execution_count": 11,
     "metadata": {},
     "output_type": "execute_result"
    }
   ],
   "source": [
    "# dumps 함수를 사용하여 직렬화된 체인을 확인합니다.\n",
    "dumps_chain = dumps(chain)\n",
    "dumps_chain"
   ]
  },
  {
   "cell_type": "code",
   "execution_count": 12,
   "metadata": {},
   "outputs": [
    {
     "data": {
      "text/plain": [
       "str"
      ]
     },
     "execution_count": 12,
     "metadata": {},
     "output_type": "execute_result"
    }
   ],
   "source": [
    "# 직렬화된 체인의 타입을 확인합니다.\n",
    "type(dumps_chain)"
   ]
  },
  {
   "cell_type": "markdown",
   "metadata": {},
   "source": [
    "## Pickle 파일\n",
    "\n",
    "### 개요\n",
    "\n",
    "Pickle 파일은 Python 객체를 바이너리 형태로 직렬화하는 포맷입니다.\n",
    "\n",
    "### 특징\n",
    "\n",
    "1. **형식:**\n",
    "   - Python 객체를 바이너리 형태로 직렬화하는 포맷\n",
    "\n",
    "2. **특징:**\n",
    "   - Python 전용 (다른 언어와 호환 불가)\n",
    "   - 대부분의 Python 데이터 타입 지원 (리스트, 딕셔너리, 클래스 등)\n",
    "   - 객체의 상태와 구조를 그대로 보존\n",
    "\n",
    "3. **장점:**\n",
    "   - 효율적인 저장 및 전송\n",
    "   - 복잡한 객체 구조 유지\n",
    "   - 빠른 직렬화/역직렬화 속도\n",
    "\n",
    "4. **단점:**\n",
    "   - 보안 위험 (신뢰할 수 없는 데이터 역직렬화 시 주의 필요)\n",
    "   - 사람이 읽을 수 없는 바이너리 형식\n",
    "\n",
    "### 주요 용도\n",
    "\n",
    "1. 객체 캐싱\n",
    "2. 머신러닝 모델 저장\n",
    "3. 프로그램 상태 저장 및 복원\n",
    "\n",
    "### 사용법\n",
    "\n",
    "- `pickle.dump()`: 객체를 파일에 저장\n",
    "- `pickle.load()`: 파일에서 객체 로드\n"
   ]
  },
  {
   "cell_type": "markdown",
   "metadata": {},
   "source": [
    "pickle 파일로 저장합니다."
   ]
  },
  {
   "cell_type": "code",
   "execution_count": 13,
   "metadata": {},
   "outputs": [],
   "source": [
    "import pickle\n",
    "\n",
    "# fuit_chain.pkl 파일로 직렬화된 체인을 저장합니다.\n",
    "with open(\"fruit_chain.pkl\", \"wb\") as f:\n",
    "    pickle.dump(dumpd_chain, f)"
   ]
  },
  {
   "cell_type": "markdown",
   "metadata": {},
   "source": [
    "JSON 형식으로 마찬가지로 저장할 수 있습니다."
   ]
  },
  {
   "cell_type": "code",
   "execution_count": 14,
   "metadata": {},
   "outputs": [],
   "source": [
    "import json\n",
    "\n",
    "with open(\"fruit_chain.json\", \"w\") as fp:\n",
    "    json.dump(dumpd_chain, fp)"
   ]
  },
  {
   "cell_type": "markdown",
   "metadata": {},
   "source": [
    "## load: 저장한 모델 불러오기\n"
   ]
  },
  {
   "cell_type": "markdown",
   "metadata": {},
   "source": [
    "먼저, 이전에 저장한 `pickle` 형식의 파일을 로드합니다."
   ]
  },
  {
   "cell_type": "code",
   "execution_count": 15,
   "metadata": {},
   "outputs": [],
   "source": [
    "import pickle\n",
    "\n",
    "# pickle 파일을 로드합니다.\n",
    "with open(\"fruit_chain.pkl\", \"rb\") as f:\n",
    "    loaded_chain = pickle.load(f)"
   ]
  },
  {
   "cell_type": "markdown",
   "metadata": {},
   "source": [
    "로드한 json 파일을 `load` 메서드를 사용하여 로드합니다."
   ]
  },
  {
   "cell_type": "code",
   "execution_count": 16,
   "metadata": {},
   "outputs": [
    {
     "name": "stderr",
     "output_type": "stream",
     "text": [
      "C:\\Users\\younghl\\AppData\\Local\\Temp\\ipykernel_8720\\741098595.py:4: LangChainBetaWarning: The function `load` is in beta. It is actively being worked on, so the API may change.\n",
      "  chain_from_file = load(loaded_chain)\n"
     ]
    },
    {
     "name": "stdout",
     "output_type": "stream",
     "text": [
      "content='사과의 색상은 품종에 따라 다양합니다:\\n\\n• **빨간색** - 가장 흔한 색상 (홍로, 후지 등)\\n• **초록색** - 청사과라고 불리는 품종들\\n• **노란색** - 골든 딜리셔스 등\\n• **혼합색** - 빨강과 노랑이 섞인 것, 빨강과 초록이 섞인 것 등\\n\\n일반적으로 사람들이 사과 하면 떠올리는 색은 빨간색이지만, 실제로는 다양한 색상의 사과가 존재합니다.' additional_kwargs={} response_metadata={'ResponseMetadata': {'RequestId': '3ac86a2c-25b3-42f5-8f92-39badb4b3000', 'HTTPStatusCode': 200, 'HTTPHeaders': {'date': 'Wed, 30 Jul 2025 09:32:23 GMT', 'content-type': 'application/json', 'content-length': '748', 'connection': 'keep-alive', 'x-amzn-requestid': '3ac86a2c-25b3-42f5-8f92-39badb4b3000'}, 'RetryAttempts': 0}, 'stopReason': 'end_turn', 'metrics': {'latencyMs': [3823]}, 'model_name': 'apac.anthropic.claude-sonnet-4-20250514-v1:0'} id='run--78f8666a-ef73-4b8c-9421-5bea56881af0-0' usage_metadata={'input_tokens': 23, 'output_tokens': 200, 'total_tokens': 223, 'input_token_details': {'cache_creation': 0, 'cache_read': 0}}\n"
     ]
    }
   ],
   "source": [
    "from langchain_core.load import load\n",
    "\n",
    "# 체인을 로드합니다.\n",
    "chain_from_file = load(loaded_chain)\n",
    "\n",
    "# 체인을 실행합니다.\n",
    "print(chain_from_file.invoke({\"fruit\": \"사과\"}))"
   ]
  },
  {
   "cell_type": "code",
   "execution_count": 17,
   "metadata": {},
   "outputs": [
    {
     "data": {
      "text/plain": [
       "AIMessage(content='사과의 색상은 품종에 따라 다양합니다:\\n\\n**주요 색상:**\\n- **빨간색** - 가장 일반적 (홍옥, 후지 등)\\n- **초록색** - 청사과, 그래니 스미스 등\\n- **노란색** - 골든 델리셔스 등\\n- **혼합색** - 빨강과 노랑, 빨강과 초록이 섞인 것\\n\\n대부분의 사람들이 떠올리는 대표적인 사과 색상은 **빨간색**이지만, 실제로는 품종마다 색상이 매우 다양합니다.', additional_kwargs={}, response_metadata={'ResponseMetadata': {'RequestId': '32db00b6-a8de-4982-8781-d2534ebb78ba', 'HTTPStatusCode': 200, 'HTTPHeaders': {'date': 'Wed, 30 Jul 2025 09:36:24 GMT', 'content-type': 'application/json', 'content-length': '747', 'connection': 'keep-alive', 'x-amzn-requestid': '32db00b6-a8de-4982-8781-d2534ebb78ba'}, 'RetryAttempts': 0}, 'stopReason': 'end_turn', 'metrics': {'latencyMs': [3701]}, 'model_name': 'apac.anthropic.claude-sonnet-4-20250514-v1:0'}, id='run--d80336e8-16ea-446b-b89e-a850da29291a-0', usage_metadata={'input_tokens': 23, 'output_tokens': 201, 'total_tokens': 224, 'input_token_details': {'cache_creation': 0, 'cache_read': 0}})"
      ]
     },
     "execution_count": 17,
     "metadata": {},
     "output_type": "execute_result"
    }
   ],
   "source": [
    "from langchain_core.load import load, loads\n",
    "\n",
    "load_chain = load(\n",
    "    loaded_chain, secrets_map={\"AWS_ACCESS_KEY_ID\": os.environ[\"AWS_ACCESS_KEY_ID\"], \"AWS_SECRET_ACCESS_KEY\": os.environ[\"AWS_SECRET_ACCESS_KEY\"]}\n",
    ")\n",
    "\n",
    "# 불러온 체인이 정상 동작하는지 확인합니다.\n",
    "load_chain.invoke({\"fruit\": \"사과\"})"
   ]
  },
  {
   "cell_type": "code",
   "execution_count": 18,
   "metadata": {},
   "outputs": [],
   "source": [
    "with open(\"fruit_chain.json\", \"r\") as fp:\n",
    "    loaded_from_json_chain = json.load(fp)\n",
    "    loads_chain = load(loaded_from_json_chain)"
   ]
  },
  {
   "cell_type": "code",
   "execution_count": 19,
   "metadata": {},
   "outputs": [
    {
     "data": {
      "text/plain": [
       "AIMessage(content='사과의 색상은 품종에 따라 다양합니다:\\n\\n**주요 색상들:**\\n- **빨간색** - 가장 흔한 색상 (홍로, 후지 등)\\n- **초록색** - 청사과, 그래니 스미스 등\\n- **노란색** - 골든 딜리셔스 등\\n- **혼합색** - 빨강과 노랑이 섞인 것, 빨강과 초록이 섞인 것 등\\n\\n대부분의 사람들이 떠올리는 전형적인 사과 색상은 **빨간색**이지만, 실제로는 품종마다 색상이 매우 다양합니다.', additional_kwargs={}, response_metadata={'ResponseMetadata': {'RequestId': 'd15a9e08-9ffa-4e55-a7e0-7bc0355f4cef', 'HTTPStatusCode': 200, 'HTTPHeaders': {'date': 'Wed, 30 Jul 2025 09:36:47 GMT', 'content-type': 'application/json', 'content-length': '772', 'connection': 'keep-alive', 'x-amzn-requestid': 'd15a9e08-9ffa-4e55-a7e0-7bc0355f4cef'}, 'RetryAttempts': 0}, 'stopReason': 'end_turn', 'metrics': {'latencyMs': [3951]}, 'model_name': 'apac.anthropic.claude-sonnet-4-20250514-v1:0'}, id='run--157bf0fa-4bf6-4848-957b-9b1a517b0ea2-0', usage_metadata={'input_tokens': 23, 'output_tokens': 214, 'total_tokens': 237, 'input_token_details': {'cache_creation': 0, 'cache_read': 0}})"
      ]
     },
     "execution_count": 19,
     "metadata": {},
     "output_type": "execute_result"
    }
   ],
   "source": [
    "# 불러온 체인이 정상 동작하는지 확인합니다.\n",
    "loads_chain.invoke({\"fruit\": \"사과\"})"
   ]
  }
 ],
 "metadata": {
  "kernelspec": {
   "display_name": ".venv",
   "language": "python",
   "name": "python3"
  },
  "language_info": {
   "codemirror_mode": {
    "name": "ipython",
    "version": 3
   },
   "file_extension": ".py",
   "mimetype": "text/x-python",
   "name": "python",
   "nbconvert_exporter": "python",
   "pygments_lexer": "ipython3",
   "version": "3.11.13"
  }
 },
 "nbformat": 4,
 "nbformat_minor": 2
}
